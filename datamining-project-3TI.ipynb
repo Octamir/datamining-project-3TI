{
 "cells": [
  {
   "cell_type": "code",
   "execution_count": null,
   "metadata": {
    "collapsed": true
   },
   "outputs": [],
   "source": [
    "import os.path\n",
    "from pyspark.mllib.stat import Statistics\n",
    "import matplotlib as mpl\n",
    "import matplotlib.pyplot as plt"
   ]
  },
  {
   "cell_type": "code",
   "execution_count": null,
   "metadata": {
    "collapsed": false
   },
   "outputs": [],
   "source": [
    "headers = 'Age,\"AttendedBootcamp\",\"BootcampFinish\",\"BootcampFullJobAfter\",\"BootcampLoanYesNo\",\"BootcampMonthsAgo\",\"BootcampName\",\"BootcampPostSalary\",\"BootcampRecommend\",\"ChildrenNumber\",\"CityPopulation\",\"CodeEventBootcamp\",\"CodeEventCoffee\",\"CodeEventConferences\",\"CodeEventDjangoGirls\",\"CodeEventGameJam\",\"CodeEventGirlDev\",\"CodeEventHackathons\",\"CodeEventMeetup\",\"CodeEventNodeSchool\",\"CodeEventNone\",\"CodeEventOther\",\"CodeEventRailsBridge\",\"CodeEventRailsGirls\",\"CodeEventStartUpWknd\",\"CodeEventWomenCode\",\"CodeEventWorkshop\",\"CommuteTime\",\"CountryCitizen\",\"CountryLive\",\"EmploymentField\",\"EmploymentFieldOther\",\"EmploymentStatus\",\"EmploymentStatusOther\",\"ExpectedEarning\",\"FinanciallySupporting\",\"Gender\",\"HasChildren\",\"HasDebt\",\"HasFinancialDependents\",\"HasHighSpdInternet\",\"HasHomeMortgage\",\"HasServedInMilitary\",\"HasStudentDebt\",\"HomeMortgageOwe\",\"HoursLearning\",\"ID.x\",\"ID.y\",\"Income\",\"IsEthnicMinority\",\"IsReceiveDiabilitiesBenefits\",\"IsSoftwareDev\",\"IsUnderEmployed\",\"JobApplyWhen\",\"JobPref\",\"JobRelocateYesNo\",\"JobRoleInterest\",\"JobRoleInterestOther\",\"JobWherePref\",\"LanguageAtHome\",\"MaritalStatus\",\"MoneyForLearning\",\"MonthsProgramming\",\"NetworkID\",\"Part1EndTime\",\"Part1StartTime\",\"Part2EndTime\",\"Part2StartTime\",\"PodcastChangeLog\",\"PodcastCodeNewbie\",\"PodcastCodingBlocks\",\"PodcastDeveloperTea\",\"PodcastDotNetRocks\",\"PodcastHanselminutes\",\"PodcastJSJabber\",\"PodcastJsAir\",\"PodcastNone\",\"PodcastOther\",\"PodcastProgrammingThrowDown\",\"PodcastRubyRogues\",\"PodcastSEDaily\",\"PodcastShopTalk\",\"PodcastTalkPython\",\"PodcastWebAhead\",\"ResourceBlogs\",\"ResourceBooks\",\"ResourceCodeWars\",\"ResourceCodecademy\",\"ResourceCoursera\",\"ResourceDevTips\",\"ResourceEdX\",\"ResourceEggHead\",\"ResourceFCC\",\"ResourceGoogle\",\"ResourceHackerRank\",\"ResourceKhanAcademy\",\"ResourceLynda\",\"ResourceMDN\",\"ResourceOdinProj\",\"ResourceOther\",\"ResourcePluralSight\",\"ResourceReddit\",\"ResourceSkillCrush\",\"ResourceSoloLearn\",\"ResourceStackOverflow\",\"ResourceTreehouse\",\"ResourceUdacity\",\"ResourceUdemy\",\"ResourceW3Schools\",\"ResourceYouTube\",\"SchoolDegree\",\"SchoolMajor\",\"StudentDebtOwe\"'\n",
    "headers = map((lambda (i, header): '{0} {1}'.format(i, header.replace('\"', ''))), enumerate(headers.split(',')))\n",
    "\n",
    "for h in headers:\n",
    "    print h"
   ]
  },
  {
   "cell_type": "code",
   "execution_count": null,
   "metadata": {
    "collapsed": false
   },
   "outputs": [],
   "source": [
    "base_dir = os.path.join('data')\n",
    "input_path = os.path.join('2016-FCC-New-Coders-Survey-Data.csv')\n",
    "\n",
    "file_name = os.path.join(base_dir, input_path)\n",
    "\n",
    "# Code to read each character and parse it\n",
    "# Results in a beautifully split line! :)\n",
    "def split(l):\n",
    "    mappedLine = []\n",
    "    tmp = ''\n",
    "    in_string = False\n",
    "    \n",
    "    for c in l:\n",
    "        if c == ',':\n",
    "            if in_string:\n",
    "                tmp += c\n",
    "            else:\n",
    "                mappedLine.append(tmp)\n",
    "                tmp = ''\n",
    "        elif c == '\"':\n",
    "            in_string = not in_string\n",
    "        else:\n",
    "            tmp += c\n",
    "    \n",
    "    return mappedLine\n",
    "\n",
    "filtered_set = sc.textFile(file_name).filter(lambda l: 'AttendedBootcamp' not in l).map(split)\n",
    "\n",
    "print 'Count of records : ' + str(filtered_set.count())"
   ]
  },
  {
   "cell_type": "code",
   "execution_count": null,
   "metadata": {
    "collapsed": true
   },
   "outputs": [],
   "source": [
    "def make_features_gender(line):\n",
    "    features = []\n",
    "    \n",
    "    gender = line[36].lower()\n",
    "    \n",
    "    if gender == 'male':\n",
    "        features.extend([1, 0, 0, 0])\n",
    "    elif gender == 'female':\n",
    "        features.extend([0, 1, 0, 0])\n",
    "    elif gender == 'na':\n",
    "        features.extend([0, 0, 0, 1])\n",
    "    else:\n",
    "        features.extend([0, 0, 1, 0])\n",
    "    return features\n",
    "\n",
    "featured_gender = filtered_set.map(make_features_gender)"
   ]
  },
  {
   "cell_type": "code",
   "execution_count": null,
   "metadata": {
    "collapsed": false
   },
   "outputs": [],
   "source": [
    "%matplotlib inline\n",
    "\n",
    "# Make the percentages bigger! (readability)\n",
    "mpl.rcParams['font.size'] = 20.0\n",
    "\n",
    "summary1 = Statistics.colStats(featured_gender)\n",
    "mean1 = summary1.mean()\n",
    "fracs1 = [mean1[0], mean1[1], mean1[2], mean1[3]]\n",
    "\n",
    "explode = (0.0, 0.3, 0.3, 0.3)\n",
    "labels = ['Male', 'Female', 'Other', 'Not answered']\n",
    "colors = ['yellowgreen', 'gold', 'lightskyblue', 'lightcoral']\n",
    "fig = plt.figure(figsize=(15, 7))\n",
    "fig.suptitle('Gender distribution', fontsize=14, fontweight='bold')\n",
    "ax1 = fig.add_subplot(121)\n",
    "ax1.pie(fracs1, explode=explode, labels=labels, colors=colors, autopct='%1.1f%%', shadow=True, startangle=90)\n",
    "\n",
    "plt.show()\n",
    "\n",
    "pass"
   ]
  },
  {
   "cell_type": "code",
   "execution_count": null,
   "metadata": {
    "collapsed": false
   },
   "outputs": [],
   "source": [
    "\"\"\"\n",
    "Gender calculations\n",
    "Not meant to be used like this!\n",
    "\"\"\"\n",
    "\n",
    "from collections import defaultdict\n",
    "genders = defaultdict(lambda : 0)\n",
    "collected = filtered_set.collect()\n",
    "for l in collected:\n",
    "    genders[l[36]] += 1\n",
    "for x in genders:\n",
    "    print '{} {}'.format(x, genders[x])"
   ]
  },
  {
   "cell_type": "code",
   "execution_count": null,
   "metadata": {
    "collapsed": false
   },
   "outputs": [],
   "source": [
    "\"\"\"\n",
    "Age barrplot calculations\n",
    "\"\"\"\n",
    "def make_features_age(line):\n",
    "    features_age = []\n",
    "    \n",
    "    \n",
    "    \n",
    "    age = line[0]\n",
    "    \n",
    "    if age == 'NA':\n",
    "        features_age.extend([1, 0, 0, 0, 0])\n",
    "    else:\n",
    "        age = int(age)\n",
    "        if age <= 20:\n",
    "            features_age.extend([0, 1, 0, 0, 0])\n",
    "        elif age > 20 and age <= 35:\n",
    "            features_age.extend([0, 0, 1, 0, 0])\n",
    "        elif age > 35 and age <= 50:\n",
    "            features_age.extend([0, 0, 0, 1, 0])\n",
    "        else:\n",
    "            features_age.extend([0, 0, 0, 0, 1])\n",
    "    return features_age\n",
    "\n",
    "featured_age = filtered_set.map(make_features_age)\n",
    "\n",
    "#for x in featured_age.collect(): \n",
    "#    print x"
   ]
  },
  {
   "cell_type": "code",
   "execution_count": null,
   "metadata": {
    "collapsed": false
   },
   "outputs": [],
   "source": [
    "%matplotlib inline\n",
    "\n",
    "# Make the percentages bigger! (readability)\n",
    "mpl.rcParams['font.size'] = 20.0\n",
    "\n",
    "summary_age = Statistics.colStats(featured_age)\n",
    "mean_age = summary_age.mean()\n",
    "fracs_age = [mean_age[0], mean_age[1], mean_age[2], mean_age[3], mean_age[4]]\n",
    "\n",
    "explode = (0.3, 0.3, 0.3, 0.3, 0.3)\n",
    "labels = ['NA', '<= 20', ' 20 < ... < 35', ' 35 < ... < 50', '50 <']\n",
    "colors = ['yellowgreen', 'gold', 'lightskyblue', 'lightcoral', 'green']\n",
    "fig = plt.figure(figsize=(15, 7))\n",
    "fig.suptitle('Age distribution', fontsize=14, fontweight='bold')\n",
    "ax1 = fig.add_subplot(121)\n",
    "ax1.pie(fracs_age, explode=explode, labels=labels, colors=colors, autopct='%1.1f%%', shadow=True, startangle=90)\n",
    "\n",
    "plt.show()\n",
    "\n",
    "pass"
   ]
  },
  {
   "cell_type": "code",
   "execution_count": null,
   "metadata": {
    "collapsed": true
   },
   "outputs": [],
   "source": []
  }
 ],
 "metadata": {
  "anaconda-cloud": {},
  "kernelspec": {
   "display_name": "Python [Root]",
   "language": "python",
   "name": "Python [Root]"
  }
 },
 "nbformat": 4,
 "nbformat_minor": 0
}
