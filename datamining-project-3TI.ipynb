{
 "cells": [
  {
   "cell_type": "markdown",
   "metadata": {},
   "source": [
    "To Do!\n",
    "\n",
    "- Percentage of people who have gotten their first job vs how many looking\n",
    "- Used resources\n",
    "    - In which country the resource originated\n",
    "    - Traffic data for resource?\n",
    "- Countries\n",
    "- Spoken language"
   ]
  },
  {
   "cell_type": "code",
   "execution_count": null,
   "metadata": {
    "collapsed": true
   },
   "outputs": [],
   "source": [
    "import os.path\n",
    "import matplotlib as mpl\n",
    "import matplotlib.pyplot as plt\n",
    "import numpy as np"
   ]
  },
  {
   "cell_type": "code",
   "execution_count": null,
   "metadata": {
    "collapsed": false
   },
   "outputs": [],
   "source": [
    "headers = 'Age,\"AttendedBootcamp\",\"BootcampFinish\",\"BootcampFullJobAfter\",\"BootcampLoanYesNo\",\"BootcampMonthsAgo\",\"BootcampName\",\"BootcampPostSalary\",\"BootcampRecommend\",\"ChildrenNumber\",\"CityPopulation\",\"CodeEventBootcamp\",\"CodeEventCoffee\",\"CodeEventConferences\",\"CodeEventDjangoGirls\",\"CodeEventGameJam\",\"CodeEventGirlDev\",\"CodeEventHackathons\",\"CodeEventMeetup\",\"CodeEventNodeSchool\",\"CodeEventNone\",\"CodeEventOther\",\"CodeEventRailsBridge\",\"CodeEventRailsGirls\",\"CodeEventStartUpWknd\",\"CodeEventWomenCode\",\"CodeEventWorkshop\",\"CommuteTime\",\"CountryCitizen\",\"CountryLive\",\"EmploymentField\",\"EmploymentFieldOther\",\"EmploymentStatus\",\"EmploymentStatusOther\",\"ExpectedEarning\",\"FinanciallySupporting\",\"Gender\",\"HasChildren\",\"HasDebt\",\"HasFinancialDependents\",\"HasHighSpdInternet\",\"HasHomeMortgage\",\"HasServedInMilitary\",\"HasStudentDebt\",\"HomeMortgageOwe\",\"HoursLearning\",\"ID.x\",\"ID.y\",\"Income\",\"IsEthnicMinority\",\"IsReceiveDiabilitiesBenefits\",\"IsSoftwareDev\",\"IsUnderEmployed\",\"JobApplyWhen\",\"JobPref\",\"JobRelocateYesNo\",\"JobRoleInterest\",\"JobRoleInterestOther\",\"JobWherePref\",\"LanguageAtHome\",\"MaritalStatus\",\"MoneyForLearning\",\"MonthsProgramming\",\"NetworkID\",\"Part1EndTime\",\"Part1StartTime\",\"Part2EndTime\",\"Part2StartTime\",\"PodcastChangeLog\",\"PodcastCodeNewbie\",\"PodcastCodingBlocks\",\"PodcastDeveloperTea\",\"PodcastDotNetRocks\",\"PodcastHanselminutes\",\"PodcastJSJabber\",\"PodcastJsAir\",\"PodcastNone\",\"PodcastOther\",\"PodcastProgrammingThrowDown\",\"PodcastRubyRogues\",\"PodcastSEDaily\",\"PodcastShopTalk\",\"PodcastTalkPython\",\"PodcastWebAhead\",\"ResourceBlogs\",\"ResourceBooks\",\"ResourceCodeWars\",\"ResourceCodecademy\",\"ResourceCoursera\",\"ResourceDevTips\",\"ResourceEdX\",\"ResourceEggHead\",\"ResourceFCC\",\"ResourceGoogle\",\"ResourceHackerRank\",\"ResourceKhanAcademy\",\"ResourceLynda\",\"ResourceMDN\",\"ResourceOdinProj\",\"ResourceOther\",\"ResourcePluralSight\",\"ResourceReddit\",\"ResourceSkillCrush\",\"ResourceSoloLearn\",\"ResourceStackOverflow\",\"ResourceTreehouse\",\"ResourceUdacity\",\"ResourceUdemy\",\"ResourceW3Schools\",\"ResourceYouTube\",\"SchoolDegree\",\"SchoolMajor\",\"StudentDebtOwe\"'\n",
    "headers = map((lambda (i, header): '{0} {1}'.format(i, header.replace('\"', ''))), enumerate(headers.split(',')))\n",
    "\n",
    "for h in headers:\n",
    "    print h"
   ]
  },
  {
   "cell_type": "code",
   "execution_count": null,
   "metadata": {
    "collapsed": false
   },
   "outputs": [],
   "source": [
    "base_dir = os.path.join('data')\n",
    "input_path = os.path.join('2016-FCC-New-Coders-Survey-Data.csv')\n",
    "\n",
    "file_name = os.path.join(base_dir, input_path)\n",
    "\n",
    "# Code to read each character and parse it\n",
    "# Results in a beautifully split line! :)\n",
    "def split(l):\n",
    "    mappedLine = []\n",
    "    tmp = ''\n",
    "    in_string = False\n",
    "    \n",
    "    for c in l:\n",
    "        if c == ',':\n",
    "            if in_string:\n",
    "                tmp += c\n",
    "            else:\n",
    "                mappedLine.append(tmp)\n",
    "                tmp = ''\n",
    "        elif c == '\"':\n",
    "            in_string = not in_string\n",
    "        else:\n",
    "            tmp += c\n",
    "    \n",
    "    return mappedLine\n",
    "\n",
    "filtered_set = sc.textFile(file_name).filter(lambda l: 'AttendedBootcamp' not in l).map(split)\n",
    "\n",
    "print 'Count of records : ' + str(filtered_set.count())"
   ]
  },
  {
   "cell_type": "code",
   "execution_count": null,
   "metadata": {
    "collapsed": true
   },
   "outputs": [],
   "source": [
    "def make_features_gender(line):\n",
    "    features = []\n",
    "    \n",
    "    gender = line[36].lower()\n",
    "    \n",
    "    if gender == 'male':\n",
    "        features.extend([1, 0, 0, 0])\n",
    "    elif gender == 'female':\n",
    "        features.extend([0, 1, 0, 0])\n",
    "    elif gender == 'na':\n",
    "        features.extend([0, 0, 0, 1])\n",
    "    else:\n",
    "        features.extend([0, 0, 1, 0])\n",
    "    return features\n",
    "\n",
    "featured_gender = filtered_set.map(make_features_gender)"
   ]
  },
  {
   "cell_type": "code",
   "execution_count": null,
   "metadata": {
    "collapsed": false
   },
   "outputs": [],
   "source": [
    "%matplotlib inline\n",
    "\n",
    "# Make the percentages bigger! (readability)\n",
    "mpl.rcParams['font.size'] = 20.0\n",
    "\n",
    "fracs1 = np.mean(featured_gender.collect(), axis=0)\n",
    "\n",
    "explode = (0.0, 0.3, 0.3, 0.3)\n",
    "labels = ['Male', 'Female', 'Other', 'Not answered']\n",
    "colors = ['yellowgreen', 'gold', 'lightskyblue', 'lightcoral']\n",
    "fig = plt.figure(figsize=(15, 7))\n",
    "fig.suptitle('Gender distribution', fontsize=14, fontweight='bold')\n",
    "ax1 = fig.add_subplot(121)\n",
    "ax1.pie(fracs1, explode=explode, labels=labels, colors=colors, autopct='%1.1f%%', shadow=True, startangle=90)\n",
    "\n",
    "plt.show()\n",
    "\n",
    "pass"
   ]
  },
  {
   "cell_type": "code",
   "execution_count": null,
   "metadata": {
    "collapsed": false
   },
   "outputs": [],
   "source": [
    "\"\"\"\n",
    "Gender calculations\n",
    "Not meant to be used like this!\n",
    "\"\"\"\n",
    "\n",
    "from collections import defaultdict\n",
    "genders = defaultdict(lambda : 0)\n",
    "status_employ = defaultdict(lambda : 0)\n",
    "collected = filtered_set.collect()\n",
    "for l in collected:\n",
    "    genders[l[36]] += 1\n",
    "    status_employ[l[32]] += 1\n",
    "for x in genders:\n",
    "    print '{} {}'.format(x, genders[x])\n",
    "print \"\"\n",
    "for x in status_employ:\n",
    "    print x"
   ]
  },
  {
   "cell_type": "code",
   "execution_count": null,
   "metadata": {
    "collapsed": false
   },
   "outputs": [],
   "source": [
    "\"\"\"\n",
    "Age barplot calculations\n",
    "\"\"\"\n",
    "def make_features_age(line):\n",
    "    features_age = [] \n",
    "    \n",
    "    age = line[0]\n",
    "    label_gender = line[36]\n",
    "    \n",
    "    if age == 'NA':\n",
    "        features_age.extend((label_gender, [1, 0, 0, 0, 0]))\n",
    "    else:\n",
    "        age = int(age)\n",
    "        if age <= 20:\n",
    "            features_age.extend((label_gender, [0, 1, 0, 0, 0]))\n",
    "        elif age > 20 and age <= 35:\n",
    "            features_age.extend((label_gender, [0, 0, 1, 0, 0]))\n",
    "        elif age > 35 and age <= 50:\n",
    "            features_age.extend((label_gender, [0, 0, 0, 1, 0]))\n",
    "        else:\n",
    "            features_age.extend((label_gender, [0, 0, 0, 0, 1]))\n",
    "    return features_age\n",
    "\n",
    "featured_age = filtered_set.map(make_features_age)\n",
    "\n",
    "#for x in featured_age.collect(): \n",
    "#    print x\n",
    "\n",
    "males = featured_age.filter(lambda x: x[0] == 'male').map(lambda x: x[1])\n",
    "females = featured_age.filter(lambda x: x[0] == 'female').map(lambda x: x[1])\n",
    "not_answered = featured_age.filter(lambda x: x[0] == 'NA').map(lambda x: x[1])\n",
    "\n",
    "sums_male = np.sum(males.collect(), axis=0)\n",
    "sums_female = np.sum(females.collect(), axis=0)\n",
    "sums_not_answered = np.sum(not_answered.collect(), axis=0)\n",
    "\n",
    "print sums_male\n",
    "print sums_female\n",
    "print sums_not_answered\n",
    "\n",
    "sum_total = np.sum([sums_male, sums_female, sums_not_answered])\n",
    "print sum_total"
   ]
  },
  {
   "cell_type": "code",
   "execution_count": null,
   "metadata": {
    "collapsed": false
   },
   "outputs": [],
   "source": [
    "%matplotlib inline\n",
    "\n",
    "#Gender - Age arrays\n",
    "males = featured_age.filter(lambda x: x[0] == 'male').map(lambda x: x[1])\n",
    "females = featured_age.filter(lambda x: x[0] == 'female').map(lambda x: x[1])\n",
    "not_answered = featured_age.filter(lambda x: x[0] == 'NA').map(lambda x: x[1])\n",
    "\n",
    "sums_male = np.sum(males.collect(), axis=0)\n",
    "sums_female = np.sum(females.collect(), axis=0)\n",
    "sums_not_answered = np.sum(not_answered.collect(), axis=0)\n",
    "\n",
    "#Age\n",
    "N = 5\n",
    "width = 0.5\n",
    "LABELS = [\"NA\",\"<=20\",\"21 - 35\",\"36 - 50\",\"50 <\"]\n",
    "\n",
    "#sum_age = np.sum(featured_age.collect(), axis = 0)\n",
    "\n",
    "#ind = np.arange(N) = x_axis\n",
    "x_axis = np.arange(N)\n",
    "\n",
    "fig = plt.figure(figsize=(15, 7))\n",
    "ax = fig.add_subplot(1,1,1)\n",
    "\n",
    "p1 = ax.bar(x_axis, sums_male, width, color= 'r', align='center')\n",
    "p2 = ax.bar(x_axis, sums_female, width, color='y', bottom=sums_male, align='center')\n",
    "p3 = ax.bar(x_axis, sums_not_answered, width, color='b', bottom= sums_male + sums_female, align='center')\n",
    "\n",
    "ax.set_xlabel('Age')\n",
    "ax.set_ylabel('Amount')\n",
    "plt.xticks(x_axis, LABELS)\n",
    "\n",
    "pass"
   ]
  },
  {
   "cell_type": "code",
   "execution_count": null,
   "metadata": {
    "collapsed": false
   },
   "outputs": [],
   "source": [
    "def make_features_employment(line):\n",
    "    features = []\n",
    "    \n",
    "    status = line[32]\n",
    "    \n",
    "    if status == 'Employed for wages':\n",
    "        features.extend([1, 0, 0, 0, 0, 0, 0])\n",
    "    elif status == 'Self-employed freelancer' or status == 'Self-employed business owner':\n",
    "        features.extend([0, 1, 0, 0, 0, 0, 0])\n",
    "    elif status == 'Doing an unpaid internship':\n",
    "        features.extend([0, 0, 1, 0, 0, 0, 0])\n",
    "    elif status == 'Not working but looking for work':\n",
    "        features.extend([0, 0, 0, 1, 0, 0, 0])\n",
    "    elif status == 'Not working and not looking for work':\n",
    "        features.extend([0, 0, 0, 0, 1, 0, 0])\n",
    "    elif status == 'NA':\n",
    "        features.extend([0, 0, 0, 0, 0, 1, 0])\n",
    "    else:\n",
    "        features.extend([0, 0, 0, 0, 0, 0, 1])\n",
    "    return features\n",
    "\n",
    "featured_employ = filtered_set.map(make_features_employment)"
   ]
  },
  {
   "cell_type": "code",
   "execution_count": null,
   "metadata": {
    "collapsed": false
   },
   "outputs": [],
   "source": [
    "%matplotlib inline\n",
    "\n",
    "# Make the percentages bigger! (readability)\n",
    "mpl.rcParams['font.size'] = 20.0\n",
    "\n",
    "fracs_employ = np.mean(featured_employ.collect(), axis=0)\n",
    "\n",
    "explode = (0.2, 0.2, 0.2, 0.2, 0.2, 0.2, 0.2)\n",
    "labels = ['Employed', 'Self-employed', 'Internship','Not working but looking', 'Not working or looking', 'Not answered', 'Other']\n",
    "#colors = ['yellowgreen', 'gold', 'lightskyblue', 'lightcoral']\n",
    "fig = plt.figure(figsize=(15, 7))\n",
    "fig.suptitle('Gender distribution', fontsize=14, fontweight='bold')\n",
    "ax1 = fig.add_subplot(121)\n",
    "ax1.pie(fracs_employ, explode=explode, labels=labels, autopct='%1.1f%%', shadow=True, startangle=90)\n",
    "\n",
    "plt.show()\n",
    "\n",
    "pass"
   ]
  },
  {
   "cell_type": "code",
   "execution_count": null,
   "metadata": {
    "collapsed": false
   },
   "outputs": [],
   "source": []
  }
 ],
 "metadata": {
  "anaconda-cloud": {},
  "kernelspec": {
   "display_name": "Python [Root]",
   "language": "python",
   "name": "Python [Root]"
  },
  "language_info": {
   "codemirror_mode": {
    "name": "ipython",
    "version": 2
   },
   "file_extension": ".py",
   "mimetype": "text/x-python",
   "name": "python",
   "nbconvert_exporter": "python",
   "pygments_lexer": "ipython2",
   "version": "2.7.12"
  }
 },
 "nbformat": 4,
 "nbformat_minor": 0
}
