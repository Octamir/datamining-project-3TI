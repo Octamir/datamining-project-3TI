{
 "cells": [
  {
   "cell_type": "markdown",
   "metadata": {},
   "source": [
    "To Do!\n",
    "\n",
    "- Percentage of people who have gotten their first job vs how many looking\n",
    "- Used resources\n",
    "    - In which country the resource originated\n",
    "    - Traffic data for resource?\n",
    "- Countries\n",
    "- Spoken language"
   ]
  },
  {
   "cell_type": "code",
   "execution_count": 11,
   "metadata": {
    "collapsed": true
   },
   "outputs": [],
   "source": [
    "import os.path\n",
    "import matplotlib as mpl\n",
    "import matplotlib.pyplot as plt\n",
    "import numpy as np"
   ]
  },
  {
   "cell_type": "code",
   "execution_count": 12,
   "metadata": {
    "collapsed": false
   },
   "outputs": [
    {
     "name": "stdout",
     "output_type": "stream",
     "text": [
      "0 Age\n",
      "1 AttendedBootcamp\n",
      "2 BootcampFinish\n",
      "3 BootcampFullJobAfter\n",
      "4 BootcampLoanYesNo\n",
      "5 BootcampMonthsAgo\n",
      "6 BootcampName\n",
      "7 BootcampPostSalary\n",
      "8 BootcampRecommend\n",
      "9 ChildrenNumber\n",
      "10 CityPopulation\n",
      "11 CodeEventBootcamp\n",
      "12 CodeEventCoffee\n",
      "13 CodeEventConferences\n",
      "14 CodeEventDjangoGirls\n",
      "15 CodeEventGameJam\n",
      "16 CodeEventGirlDev\n",
      "17 CodeEventHackathons\n",
      "18 CodeEventMeetup\n",
      "19 CodeEventNodeSchool\n",
      "20 CodeEventNone\n",
      "21 CodeEventOther\n",
      "22 CodeEventRailsBridge\n",
      "23 CodeEventRailsGirls\n",
      "24 CodeEventStartUpWknd\n",
      "25 CodeEventWomenCode\n",
      "26 CodeEventWorkshop\n",
      "27 CommuteTime\n",
      "28 CountryCitizen\n",
      "29 CountryLive\n",
      "30 EmploymentField\n",
      "31 EmploymentFieldOther\n",
      "32 EmploymentStatus\n",
      "33 EmploymentStatusOther\n",
      "34 ExpectedEarning\n",
      "35 FinanciallySupporting\n",
      "36 Gender\n",
      "37 HasChildren\n",
      "38 HasDebt\n",
      "39 HasFinancialDependents\n",
      "40 HasHighSpdInternet\n",
      "41 HasHomeMortgage\n",
      "42 HasServedInMilitary\n",
      "43 HasStudentDebt\n",
      "44 HomeMortgageOwe\n",
      "45 HoursLearning\n",
      "46 ID.x\n",
      "47 ID.y\n",
      "48 Income\n",
      "49 IsEthnicMinority\n",
      "50 IsReceiveDiabilitiesBenefits\n",
      "51 IsSoftwareDev\n",
      "52 IsUnderEmployed\n",
      "53 JobApplyWhen\n",
      "54 JobPref\n",
      "55 JobRelocateYesNo\n",
      "56 JobRoleInterest\n",
      "57 JobRoleInterestOther\n",
      "58 JobWherePref\n",
      "59 LanguageAtHome\n",
      "60 MaritalStatus\n",
      "61 MoneyForLearning\n",
      "62 MonthsProgramming\n",
      "63 NetworkID\n",
      "64 Part1EndTime\n",
      "65 Part1StartTime\n",
      "66 Part2EndTime\n",
      "67 Part2StartTime\n",
      "68 PodcastChangeLog\n",
      "69 PodcastCodeNewbie\n",
      "70 PodcastCodingBlocks\n",
      "71 PodcastDeveloperTea\n",
      "72 PodcastDotNetRocks\n",
      "73 PodcastHanselminutes\n",
      "74 PodcastJSJabber\n",
      "75 PodcastJsAir\n",
      "76 PodcastNone\n",
      "77 PodcastOther\n",
      "78 PodcastProgrammingThrowDown\n",
      "79 PodcastRubyRogues\n",
      "80 PodcastSEDaily\n",
      "81 PodcastShopTalk\n",
      "82 PodcastTalkPython\n",
      "83 PodcastWebAhead\n",
      "84 ResourceBlogs\n",
      "85 ResourceBooks\n",
      "86 ResourceCodeWars\n",
      "87 ResourceCodecademy\n",
      "88 ResourceCoursera\n",
      "89 ResourceDevTips\n",
      "90 ResourceEdX\n",
      "91 ResourceEggHead\n",
      "92 ResourceFCC\n",
      "93 ResourceGoogle\n",
      "94 ResourceHackerRank\n",
      "95 ResourceKhanAcademy\n",
      "96 ResourceLynda\n",
      "97 ResourceMDN\n",
      "98 ResourceOdinProj\n",
      "99 ResourceOther\n",
      "100 ResourcePluralSight\n",
      "101 ResourceReddit\n",
      "102 ResourceSkillCrush\n",
      "103 ResourceSoloLearn\n",
      "104 ResourceStackOverflow\n",
      "105 ResourceTreehouse\n",
      "106 ResourceUdacity\n",
      "107 ResourceUdemy\n",
      "108 ResourceW3Schools\n",
      "109 ResourceYouTube\n",
      "110 SchoolDegree\n",
      "111 SchoolMajor\n",
      "112 StudentDebtOwe\n"
     ]
    }
   ],
   "source": [
    "headers = 'Age,\"AttendedBootcamp\",\"BootcampFinish\",\"BootcampFullJobAfter\",\"BootcampLoanYesNo\",\"BootcampMonthsAgo\",\"BootcampName\",\"BootcampPostSalary\",\"BootcampRecommend\",\"ChildrenNumber\",\"CityPopulation\",\"CodeEventBootcamp\",\"CodeEventCoffee\",\"CodeEventConferences\",\"CodeEventDjangoGirls\",\"CodeEventGameJam\",\"CodeEventGirlDev\",\"CodeEventHackathons\",\"CodeEventMeetup\",\"CodeEventNodeSchool\",\"CodeEventNone\",\"CodeEventOther\",\"CodeEventRailsBridge\",\"CodeEventRailsGirls\",\"CodeEventStartUpWknd\",\"CodeEventWomenCode\",\"CodeEventWorkshop\",\"CommuteTime\",\"CountryCitizen\",\"CountryLive\",\"EmploymentField\",\"EmploymentFieldOther\",\"EmploymentStatus\",\"EmploymentStatusOther\",\"ExpectedEarning\",\"FinanciallySupporting\",\"Gender\",\"HasChildren\",\"HasDebt\",\"HasFinancialDependents\",\"HasHighSpdInternet\",\"HasHomeMortgage\",\"HasServedInMilitary\",\"HasStudentDebt\",\"HomeMortgageOwe\",\"HoursLearning\",\"ID.x\",\"ID.y\",\"Income\",\"IsEthnicMinority\",\"IsReceiveDiabilitiesBenefits\",\"IsSoftwareDev\",\"IsUnderEmployed\",\"JobApplyWhen\",\"JobPref\",\"JobRelocateYesNo\",\"JobRoleInterest\",\"JobRoleInterestOther\",\"JobWherePref\",\"LanguageAtHome\",\"MaritalStatus\",\"MoneyForLearning\",\"MonthsProgramming\",\"NetworkID\",\"Part1EndTime\",\"Part1StartTime\",\"Part2EndTime\",\"Part2StartTime\",\"PodcastChangeLog\",\"PodcastCodeNewbie\",\"PodcastCodingBlocks\",\"PodcastDeveloperTea\",\"PodcastDotNetRocks\",\"PodcastHanselminutes\",\"PodcastJSJabber\",\"PodcastJsAir\",\"PodcastNone\",\"PodcastOther\",\"PodcastProgrammingThrowDown\",\"PodcastRubyRogues\",\"PodcastSEDaily\",\"PodcastShopTalk\",\"PodcastTalkPython\",\"PodcastWebAhead\",\"ResourceBlogs\",\"ResourceBooks\",\"ResourceCodeWars\",\"ResourceCodecademy\",\"ResourceCoursera\",\"ResourceDevTips\",\"ResourceEdX\",\"ResourceEggHead\",\"ResourceFCC\",\"ResourceGoogle\",\"ResourceHackerRank\",\"ResourceKhanAcademy\",\"ResourceLynda\",\"ResourceMDN\",\"ResourceOdinProj\",\"ResourceOther\",\"ResourcePluralSight\",\"ResourceReddit\",\"ResourceSkillCrush\",\"ResourceSoloLearn\",\"ResourceStackOverflow\",\"ResourceTreehouse\",\"ResourceUdacity\",\"ResourceUdemy\",\"ResourceW3Schools\",\"ResourceYouTube\",\"SchoolDegree\",\"SchoolMajor\",\"StudentDebtOwe\"'\n",
    "headers = map((lambda (i, header): '{0} {1}'.format(i, header.replace('\"', ''))), enumerate(headers.split(',')))\n",
    "\n",
    "for h in headers:\n",
    "    print h"
   ]
  },
  {
   "cell_type": "code",
   "execution_count": 13,
   "metadata": {
    "collapsed": false
   },
   "outputs": [
    {
     "name": "stdout",
     "output_type": "stream",
     "text": [
      "Count of records : 15620\n"
     ]
    }
   ],
   "source": [
    "base_dir = os.path.join('data')\n",
    "input_path = os.path.join('2016-FCC-New-Coders-Survey-Data.csv')\n",
    "\n",
    "file_name = os.path.join(base_dir, input_path)\n",
    "\n",
    "# Code to read each character and parse it\n",
    "# Results in a beautifully split line! :)\n",
    "def split(l):\n",
    "    mappedLine = []\n",
    "    tmp = ''\n",
    "    in_string = False\n",
    "    \n",
    "    for c in l:\n",
    "        if c == ',':\n",
    "            if in_string:\n",
    "                tmp += c\n",
    "            else:\n",
    "                mappedLine.append(tmp)\n",
    "                tmp = ''\n",
    "        elif c == '\"':\n",
    "            in_string = not in_string\n",
    "        else:\n",
    "            tmp += c\n",
    "    \n",
    "    return mappedLine\n",
    "\n",
    "filtered_set = sc.textFile(file_name).filter(lambda l: 'AttendedBootcamp' not in l).map(split)\n",
    "\n",
    "print 'Count of records : ' + str(filtered_set.count())"
   ]
  },
  {
   "cell_type": "code",
   "execution_count": 14,
   "metadata": {
    "collapsed": true
   },
   "outputs": [],
   "source": [
    "def build_data_gender(line):\n",
    "    gender = line[36].lower()\n",
    "    \n",
    "    if gender == 'male':\n",
    "        return [1, 0, 0, 0]\n",
    "    elif gender == 'female':\n",
    "        return [0, 1, 0, 0]\n",
    "    elif gender == 'na':\n",
    "        return [0, 0, 0, 1]\n",
    "    else:\n",
    "        return [0, 0, 1, 0]\n",
    "\n",
    "featured_gender = filtered_set.map(build_data_gender)"
   ]
  },
  {
   "cell_type": "code",
   "execution_count": 15,
   "metadata": {
    "collapsed": false
   },
   "outputs": [
    {
     "data": {
      "image/png": "[encoded data removed]",
      "text/plain": [
       "<matplotlib.figure.Figure at 0x7dfcb38>"
      ]
     },
     "metadata": {},
     "output_type": "display_data"
    }
   ],
   "source": [
    "%matplotlib inline\n",
    "\n",
    "# Make the percentages bigger! (readability)\n",
    "mpl.rcParams['font.size'] = 20.0\n",
    "\n",
    "fracs1 = np.mean(featured_gender.collect(), axis=0)\n",
    "\n",
    "explode = (0.0, 0.3, 0.3, 0.3)\n",
    "labels = ['Male', 'Female', 'Other', 'Not answered']\n",
    "colors = ['yellowgreen', 'gold', 'lightskyblue', 'lightcoral']\n",
    "fig = plt.figure(figsize=(15, 7))\n",
    "fig.suptitle('Gender distribution', fontsize=14, fontweight='bold')\n",
    "ax1 = fig.add_subplot(121)\n",
    "ax1.pie(fracs1, explode=explode, labels=labels, colors=colors, autopct='%1.1f%%', shadow=True, startangle=90)\n",
    "\n",
    "plt.show()\n",
    "\n",
    "pass"
   ]
  },
  {
   "cell_type": "code",
   "execution_count": null,
   "metadata": {
    "collapsed": false
   },
   "outputs": [
    {
     "name": "stdout",
     "output_type": "stream",
     "text": [
      "[ 107 1518 7195 1645  301]\n",
      "[  63  222 1901  531  123]\n",
      "[1834   12   26    2    0]\n",
      "15480\n"
     ]
    }
   ],
   "source": [
    "\"\"\"\n",
    "Age barplot calculations\n",
    "\"\"\"\n",
    "def build_data_age(line):\n",
    "    age = line[0]\n",
    "    label_gender = line[36]\n",
    "    \n",
    "    if age == 'NA':\n",
    "        return (label_gender, [1, 0, 0, 0, 0])\n",
    "    else:\n",
    "        age = int(age)\n",
    "        if age <= 20:\n",
    "            return (label_gender, [0, 1, 0, 0, 0])\n",
    "        elif age > 20 and age <= 35:\n",
    "            return (label_gender, [0, 0, 1, 0, 0])\n",
    "        elif age > 35 and age <= 50:\n",
    "            return (label_gender, [0, 0, 0, 1, 0])\n",
    "        else:\n",
    "            return (label_gender, [0, 0, 0, 0, 1])\n",
    "\n",
    "featured_age = filtered_set.map(build_data_age)\n",
    "\n",
    "males = featured_age.filter(lambda x: x[0] == 'male').map(lambda x: x[1])\n",
    "females = featured_age.filter(lambda x: x[0] == 'female').map(lambda x: x[1])\n",
    "not_answered = featured_age.filter(lambda x: x[0] == 'NA').map(lambda x: x[1])\n",
    "\n",
    "sums_male = np.sum(males.collect(), axis=0)\n",
    "sums_female = np.sum(females.collect(), axis=0)\n",
    "sums_not_answered = np.sum(not_answered.collect(), axis=0)\n",
    "\n",
    "print sums_male\n",
    "print sums_female\n",
    "print sums_not_answered\n",
    "\n",
    "sum_total = np.sum([sums_male, sums_female, sums_not_answered])\n",
    "print sum_total"
   ]
  },
  {
   "cell_type": "code",
   "execution_count": null,
   "metadata": {
    "collapsed": false
   },
   "outputs": [],
   "source": [
    "%matplotlib inline\n",
    "\n",
    "#Gender - Age arrays\n",
    "males = featured_age.filter(lambda x: x[0] == 'male').map(lambda x: x[1])\n",
    "females = featured_age.filter(lambda x: x[0] == 'female').map(lambda x: x[1])\n",
    "not_answered = featured_age.filter(lambda x: x[0] == 'NA').map(lambda x: x[1])\n",
    "\n",
    "sums_male = np.sum(males.collect(), axis=0)\n",
    "sums_female = np.sum(females.collect(), axis=0)\n",
    "sums_not_answered = np.sum(not_answered.collect(), axis=0)\n",
    "\n",
    "#Age\n",
    "N = 5\n",
    "width = 0.5\n",
    "LABELS = [\"NA\",\"<=20\",\"21 - 35\",\"36 - 50\",\"50 <\"]\n",
    "\n",
    "#sum_age = np.sum(featured_age.collect(), axis = 0)\n",
    "\n",
    "#ind = np.arange(N) = x_axis\n",
    "x_axis = np.arange(N)\n",
    "\n",
    "fig = plt.figure(figsize=(15, 7))\n",
    "ax = fig.add_subplot(1,1,1)\n",
    "\n",
    "p1 = ax.bar(x_axis, sums_male, width, color= 'gold', align='center')\n",
    "p2 = ax.bar(x_axis, sums_female, width, color='lightcoral', bottom=sums_male, align='center')\n",
    "p3 = ax.bar(x_axis, sums_not_answered, width, color='yellowgreen', bottom= sums_male + sums_female, align='center')\n",
    "\n",
    "ax.set_xlabel('Age')\n",
    "ax.set_ylabel('Amount')\n",
    "plt.xticks(x_axis, LABELS)\n",
    "\n",
    "pass"
   ]
  },
  {
   "cell_type": "code",
   "execution_count": null,
   "metadata": {
    "collapsed": false
   },
   "outputs": [],
   "source": [
    "def build_data_employment(line):\n",
    "    status = line[32]\n",
    "    \n",
    "    if status == 'Employed for wages':\n",
    "        return [1, 0, 0, 0, 0, 0, 0]\n",
    "    elif status == 'Self-employed freelancer' or status == 'Self-employed business owner':\n",
    "        return [0, 1, 0, 0, 0, 0, 0]\n",
    "    elif status == 'Doing an unpaid internship':\n",
    "        return [0, 0, 1, 0, 0, 0, 0]\n",
    "    elif status == 'Not working but looking for work':\n",
    "        return [0, 0, 0, 1, 0, 0, 0]\n",
    "    elif status == 'Not working and not looking for work':\n",
    "        return [0, 0, 0, 0, 1, 0, 0]\n",
    "    elif status == 'NA':\n",
    "        return [0, 0, 0, 0, 0, 1, 0]\n",
    "    else:\n",
    "        return [0, 0, 0, 0, 0, 0, 1]\n",
    "\n",
    "featured_employ = filtered_set.map(build_data_employment)"
   ]
  },
  {
   "cell_type": "code",
   "execution_count": null,
   "metadata": {
    "collapsed": false
   },
   "outputs": [],
   "source": [
    "%matplotlib inline\n",
    "\n",
    "# Make the percentages bigger! (readability)\n",
    "mpl.rcParams['font.size'] = 20.0\n",
    "\n",
    "fracs_employ = np.mean(featured_employ.collect(), axis=0)\n",
    "\n",
    "explode = (0.2, 0.2, 0.2, 0.2, 0.2, 0.2, 0.2)\n",
    "labels = ['Employed', 'Self-employed', 'Internship','Not working but looking', 'Not working or looking', 'Not answered', 'Other']\n",
    "colors = ['yellowgreen', 'gold', 'lightskyblue', 'lightcoral', 'lime', 'aqua', 'orange']\n",
    "fig = plt.figure(figsize=(15, 7))\n",
    "fig.suptitle('Gender distribution', fontsize=14, fontweight='bold')\n",
    "ax1 = fig.add_subplot(121)\n",
    "ax1.pie(fracs_employ, explode=explode, labels=labels, colors=colors, autopct='%1.1f%%', shadow=True, startangle=90)\n",
    "\n",
    "plt.show()\n",
    "\n",
    "pass"
   ]
  },
  {
   "cell_type": "code",
   "execution_count": null,
   "metadata": {
    "collapsed": false
   },
   "outputs": [],
   "source": []
  }
 ],
 "metadata": {
  "anaconda-cloud": {},
  "kernelspec": {
   "display_name": "Python [Root]",
   "language": "python",
   "name": "Python [Root]"
  },
  "language_info": {
   "codemirror_mode": {
    "name": "ipython",
    "version": 2
   },
   "file_extension": ".py",
   "mimetype": "text/x-python",
   "name": "python",
   "nbconvert_exporter": "python",
   "pygments_lexer": "ipython2",
   "version": "2.7.12"
  }
 },
 "nbformat": 4,
 "nbformat_minor": 0
}
