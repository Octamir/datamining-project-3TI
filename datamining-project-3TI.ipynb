{
 "cells": [
  {
   "cell_type": "markdown",
   "metadata": {},
   "source": [
    "To Do!\n",
    "\n",
    "- Percentage of people who have gotten their first job vs how many looking\n",
    "- Used resources\n",
    "    - In which country the resource originated\n",
    "    - Traffic data for resource?\n",
    "- Spoken language"
   ]
  },
  {
   "cell_type": "code",
   "execution_count": null,
   "metadata": {
    "collapsed": false
   },
   "outputs": [],
   "source": [
    "import os.path\n",
    "import matplotlib as mpl\n",
    "import matplotlib.pyplot as plt\n",
    "import numpy as np\n",
    "import json\n",
    "import folium\n",
    "from collections import defaultdict\n",
    "from branca.colormap import linear\n",
    "from IPython.core.display import HTML"
   ]
  },
  {
   "cell_type": "code",
   "execution_count": null,
   "metadata": {
    "collapsed": false
   },
   "outputs": [],
   "source": [
    "HTML(\"\"\"\n",
    "<style>\n",
    ".output_png img{\n",
    "    display: block;\n",
    "    margin-left: auto;\n",
    "    margin-right: auto;\n",
    "}\n",
    "</style>\n",
    "\"\"\")"
   ]
  },
  {
   "cell_type": "code",
   "execution_count": null,
   "metadata": {
    "collapsed": true
   },
   "outputs": [],
   "source": [
    "def set_plot_font_size(size):\n",
    "    mpl.rcParams['font.size'] = size"
   ]
  },
  {
   "cell_type": "code",
   "execution_count": null,
   "metadata": {
    "collapsed": false
   },
   "outputs": [],
   "source": [
    "headers = 'Age,\"AttendedBootcamp\",\"BootcampFinish\",\"BootcampFullJobAfter\",\"BootcampLoanYesNo\",\"BootcampMonthsAgo\",\"BootcampName\",\"BootcampPostSalary\",\"BootcampRecommend\",\"ChildrenNumber\",\"CityPopulation\",\"CodeEventBootcamp\",\"CodeEventCoffee\",\"CodeEventConferences\",\"CodeEventDjangoGirls\",\"CodeEventGameJam\",\"CodeEventGirlDev\",\"CodeEventHackathons\",\"CodeEventMeetup\",\"CodeEventNodeSchool\",\"CodeEventNone\",\"CodeEventOther\",\"CodeEventRailsBridge\",\"CodeEventRailsGirls\",\"CodeEventStartUpWknd\",\"CodeEventWomenCode\",\"CodeEventWorkshop\",\"CommuteTime\",\"CountryCitizen\",\"CountryLive\",\"EmploymentField\",\"EmploymentFieldOther\",\"EmploymentStatus\",\"EmploymentStatusOther\",\"ExpectedEarning\",\"FinanciallySupporting\",\"Gender\",\"HasChildren\",\"HasDebt\",\"HasFinancialDependents\",\"HasHighSpdInternet\",\"HasHomeMortgage\",\"HasServedInMilitary\",\"HasStudentDebt\",\"HomeMortgageOwe\",\"HoursLearning\",\"ID.x\",\"ID.y\",\"Income\",\"IsEthnicMinority\",\"IsReceiveDiabilitiesBenefits\",\"IsSoftwareDev\",\"IsUnderEmployed\",\"JobApplyWhen\",\"JobPref\",\"JobRelocateYesNo\",\"JobRoleInterest\",\"JobRoleInterestOther\",\"JobWherePref\",\"LanguageAtHome\",\"MaritalStatus\",\"MoneyForLearning\",\"MonthsProgramming\",\"NetworkID\",\"Part1EndTime\",\"Part1StartTime\",\"Part2EndTime\",\"Part2StartTime\",\"PodcastChangeLog\",\"PodcastCodeNewbie\",\"PodcastCodingBlocks\",\"PodcastDeveloperTea\",\"PodcastDotNetRocks\",\"PodcastHanselminutes\",\"PodcastJSJabber\",\"PodcastJsAir\",\"PodcastNone\",\"PodcastOther\",\"PodcastProgrammingThrowDown\",\"PodcastRubyRogues\",\"PodcastSEDaily\",\"PodcastShopTalk\",\"PodcastTalkPython\",\"PodcastWebAhead\",\"ResourceBlogs\",\"ResourceBooks\",\"ResourceCodeWars\",\"ResourceCodecademy\",\"ResourceCoursera\",\"ResourceDevTips\",\"ResourceEdX\",\"ResourceEggHead\",\"ResourceFCC\",\"ResourceGoogle\",\"ResourceHackerRank\",\"ResourceKhanAcademy\",\"ResourceLynda\",\"ResourceMDN\",\"ResourceOdinProj\",\"ResourceOther\",\"ResourcePluralSight\",\"ResourceReddit\",\"ResourceSkillCrush\",\"ResourceSoloLearn\",\"ResourceStackOverflow\",\"ResourceTreehouse\",\"ResourceUdacity\",\"ResourceUdemy\",\"ResourceW3Schools\",\"ResourceYouTube\",\"SchoolDegree\",\"SchoolMajor\",\"StudentDebtOwe\"'\n",
    "headers = map((lambda (i, header): '{0} {1}'.format(i, header.replace('\"', ''))), enumerate(headers.split(',')))\n",
    "\n",
    "for h in headers:\n",
    "    print h"
   ]
  },
  {
   "cell_type": "code",
   "execution_count": null,
   "metadata": {
    "collapsed": false
   },
   "outputs": [],
   "source": [
    "base_dir = os.path.join('data')\n",
    "input_path = os.path.join('2016-FCC-New-Coders-Survey-Data.csv')\n",
    "\n",
    "file_name = os.path.join(base_dir, input_path)\n",
    "\n",
    "# Code to read each character and parse it\n",
    "# Results in a beautifully split line! :)\n",
    "def split(l):\n",
    "    mappedLine = []\n",
    "    tmp = ''\n",
    "    in_string = False\n",
    "    \n",
    "    for c in l:\n",
    "        if c == ',':\n",
    "            if in_string:\n",
    "                tmp += c\n",
    "            else:\n",
    "                mappedLine.append(tmp)\n",
    "                tmp = ''\n",
    "        elif c == '\"':\n",
    "            in_string = not in_string\n",
    "        else:\n",
    "            tmp += c\n",
    "    \n",
    "    return mappedLine\n",
    "\n",
    "filtered_set = sc.textFile(file_name).filter(lambda l: 'AttendedBootcamp' not in l).map(split)\n",
    "\n",
    "print 'Count of records : ' + str(filtered_set.count())"
   ]
  },
  {
   "cell_type": "code",
   "execution_count": null,
   "metadata": {
    "collapsed": true
   },
   "outputs": [],
   "source": [
    "def build_data_gender(line):\n",
    "    gender = line[36].lower()\n",
    "    \n",
    "    if gender == 'male':\n",
    "        return [1, 0, 0, 0]\n",
    "    elif gender == 'female':\n",
    "        return [0, 1, 0, 0]\n",
    "    elif gender == 'na':\n",
    "        return [0, 0, 0, 1]\n",
    "    else:\n",
    "        return [0, 0, 1, 0]\n",
    "\n",
    "featured_gender = filtered_set.map(build_data_gender)"
   ]
  },
  {
   "cell_type": "code",
   "execution_count": null,
   "metadata": {
    "collapsed": false
   },
   "outputs": [],
   "source": [
    "%matplotlib inline\n",
    "\n",
    "# Make the percentages bigger! (readability)\n",
    "set_plot_font_size(20.0)\n",
    "#mpl.rcParams['font.size'] = 20.0\n",
    "\n",
    "fracs1 = np.mean(featured_gender.collect(), axis=0)\n",
    "\n",
    "explode = (0.0, 0.3, 0.3, 0.3)\n",
    "labels = ['Male', 'Female', 'Other', 'Not answered']\n",
    "colors = ['yellowgreen', 'gold', 'lightskyblue', 'lightcoral']\n",
    "fig = plt.figure(figsize=(7, 7))\n",
    "fig.suptitle('Gender distribution', fontsize=14, fontweight='bold')\n",
    "ax1 = fig.add_subplot(1,1,1)\n",
    "ax1.pie(fracs1, explode=explode, labels=labels, colors=colors, autopct='%1.1f%%', shadow=True, startangle=90)\n",
    "\n",
    "plt.show()\n",
    "\n",
    "pass"
   ]
  },
  {
   "cell_type": "code",
   "execution_count": null,
   "metadata": {
    "collapsed": false
   },
   "outputs": [],
   "source": [
    "\"\"\"\n",
    "Age barplot calculations\n",
    "\"\"\"\n",
    "def build_data_age(line):\n",
    "    age = line[0]\n",
    "    label_gender = line[36]\n",
    "    \n",
    "    if age == 'NA':\n",
    "        return (label_gender, [1, 0, 0, 0, 0])\n",
    "    else:\n",
    "        age = int(age)\n",
    "        if age <= 20:\n",
    "            return (label_gender, [0, 1, 0, 0, 0])\n",
    "        elif age > 20 and age <= 35:\n",
    "            return (label_gender, [0, 0, 1, 0, 0])\n",
    "        elif age > 35 and age <= 50:\n",
    "            return (label_gender, [0, 0, 0, 1, 0])\n",
    "        else:\n",
    "            return (label_gender, [0, 0, 0, 0, 1])\n",
    "\n",
    "featured_age = filtered_set.map(build_data_age)\n",
    "\n",
    "males = featured_age.filter(lambda x: x[0] == 'male').map(lambda x: x[1])\n",
    "females = featured_age.filter(lambda x: x[0] == 'female').map(lambda x: x[1])\n",
    "not_answered = featured_age.filter(lambda x: x[0] == 'NA').map(lambda x: x[1])\n",
    "\n",
    "sums_male = np.sum(males.collect(), axis=0)\n",
    "sums_female = np.sum(females.collect(), axis=0)\n",
    "sums_not_answered = np.sum(not_answered.collect(), axis=0)\n",
    "\n",
    "print sums_male\n",
    "print sums_female\n",
    "print sums_not_answered\n",
    "\n",
    "sum_total = np.sum([sums_male, sums_female, sums_not_answered])\n",
    "print sum_total"
   ]
  },
  {
   "cell_type": "code",
   "execution_count": null,
   "metadata": {
    "collapsed": false
   },
   "outputs": [],
   "source": [
    "%matplotlib inline\n",
    "\n",
    "#Gender - Age arrays\n",
    "males = featured_age.filter(lambda x: x[0] == 'male').map(lambda x: x[1])\n",
    "females = featured_age.filter(lambda x: x[0] == 'female').map(lambda x: x[1])\n",
    "not_answered = featured_age.filter(lambda x: x[0] == 'NA').map(lambda x: x[1])\n",
    "\n",
    "sums_male = np.sum(males.collect(), axis=0)\n",
    "sums_female = np.sum(females.collect(), axis=0)\n",
    "sums_not_answered = np.sum(not_answered.collect(), axis=0)\n",
    "\n",
    "#Age\n",
    "N = 5\n",
    "width = 0.5\n",
    "LABELS = [\"NA\",\"<=20\",\"21 - 35\",\"36 - 50\",\"50 <\"]\n",
    "\n",
    "#sum_age = np.sum(featured_age.collect(), axis = 0)\n",
    "\n",
    "#ind = np.arange(N) = x_axis\n",
    "x_axis = np.arange(N)\n",
    "\n",
    "fig = plt.figure(figsize=(15, 7))\n",
    "fig.suptitle('Age Distribution', fontsize=14, fontweight='bold')\n",
    "ax = fig.add_subplot(1,1,1)\n",
    "\n",
    "p1 = ax.bar(x_axis, sums_male, width, color= 'gold', align='center')\n",
    "p2 = ax.bar(x_axis, sums_female, width, color='lightcoral', bottom=sums_male, align='center')\n",
    "p3 = ax.bar(x_axis, sums_not_answered, width, color='yellowgreen', bottom= sums_male + sums_female, align='center')\n",
    "\n",
    "ax.set_xlabel('Age')\n",
    "ax.set_ylabel('Amount')\n",
    "plt.xticks(x_axis, LABELS)\n",
    "\n",
    "pass"
   ]
  },
  {
   "cell_type": "code",
   "execution_count": null,
   "metadata": {
    "collapsed": false
   },
   "outputs": [],
   "source": [
    "def build_data_employment(line):\n",
    "    status = line[32]\n",
    "    \n",
    "    if status == 'Employed for wages':\n",
    "        return [1, 0, 0, 0, 0, 0, 0]\n",
    "    elif status == 'Self-employed freelancer' or status == 'Self-employed business owner':\n",
    "        return [0, 1, 0, 0, 0, 0, 0]\n",
    "    elif status == 'Doing an unpaid internship':\n",
    "        return [0, 0, 1, 0, 0, 0, 0]\n",
    "    elif status == 'Not working but looking for work':\n",
    "        return [0, 0, 0, 1, 0, 0, 0]\n",
    "    elif status == 'Not working and not looking for work':\n",
    "        return [0, 0, 0, 0, 1, 0, 0]\n",
    "    elif status == 'NA':\n",
    "        return [0, 0, 0, 0, 0, 1, 0]\n",
    "    else:\n",
    "        return [0, 0, 0, 0, 0, 0, 1]\n",
    "\n",
    "featured_employ = filtered_set.map(build_data_employment)"
   ]
  },
  {
   "cell_type": "code",
   "execution_count": null,
   "metadata": {
    "collapsed": false
   },
   "outputs": [],
   "source": [
    "%matplotlib inline\n",
    "\n",
    "# Make the percentages bigger! (readability)\n",
    "mpl.rcParams['font.size'] = 20.0\n",
    "\n",
    "fracs_employ = np.mean(featured_employ.collect(), axis=0)\n",
    "\n",
    "explode = (0.2, 0.2, 0.2, 0.2, 0.2, 0.2, 0.2)\n",
    "labels = ['Employed', 'Self-employed', 'Internship','Not working but looking', 'Not working or looking', 'Not answered', 'Other']\n",
    "colors = ['yellowgreen', 'gold', 'lightskyblue', 'lightcoral', 'lime', 'aqua', 'orange']\n",
    "fig = plt.figure(figsize=(7, 7))\n",
    "fig.suptitle('Employment', fontsize=14, fontweight='bold')\n",
    "ax1 = fig.add_subplot(111)\n",
    "ax1.pie(fracs_employ, explode=explode, labels=labels, colors=colors, autopct='%1.1f%%', shadow=True, startangle=90)\n",
    "\n",
    "plt.show()\n",
    "\n",
    "pass"
   ]
  },
  {
   "cell_type": "code",
   "execution_count": null,
   "metadata": {
    "collapsed": false
   },
   "outputs": [],
   "source": [
    "countries_with_continents_path = os.path.join('data', 'countries_with_continent.json')\n",
    "countries_with_continents = json.load(open(countries_with_continents_path))\n",
    "\n",
    "continents_with_countries = defaultdict(lambda: [])\n",
    "\n",
    "for country in countries_with_continents:\n",
    "    continents_with_countries[countries_with_continents[country].lower().replace(' ', '')].append(country.lower())"
   ]
  },
  {
   "cell_type": "code",
   "execution_count": null,
   "metadata": {
    "collapsed": false
   },
   "outputs": [],
   "source": [
    "# Indexes for continents\n",
    "INDEX_ASIA = 0\n",
    "INDEX_AFRICA = 1\n",
    "INDEX_EUROPE = 2\n",
    "INDEX_NORTH_AMERICA = 3\n",
    "INDEX_OCEANIA = 4\n",
    "INDEX_SOUTH_AMERICA = 5\n",
    "INDEX_NA_OR_OTHER = 6\n",
    "\n",
    "# The exceptions are named differently in the dataset and in the countries dataset\n",
    "def remove_exceptions(country):\n",
    "    exceptions = {\n",
    "        'united states of america': 'united states',\n",
    "        'korea south': 'korea, south',\n",
    "        'netherlands (holland, europe)': 'netherlands',\n",
    "        'bosnia & herzegovina': 'bosnia and herzegovina',\n",
    "        'trinidad & tobago': 'trinidad and tobago',\n",
    "        'great britain': 'united kingdom',\n",
    "        'virgin islands (usa)': 'virgin islands',\n",
    "        'virgin islands (british)': 'british virgin islands',\n",
    "        'republic of serbia': 'serbia',\n",
    "        'myanmar': 'burma (myanmar)',\n",
    "        'republic of montenegro': 'montenegro',\n",
    "    }\n",
    "    \n",
    "    if country in exceptions:\n",
    "        return exceptions[country]\n",
    "    return country\n",
    "\n",
    "def build_data_continent(line):\n",
    "    country_live = remove_exceptions(line[29].lower())\n",
    "    \n",
    "    if country_live in continents_with_countries['asia']:\n",
    "        return [1, 0, 0, 0, 0, 0]\n",
    "    elif country_live in continents_with_countries['africa']:\n",
    "        return [0, 1, 0, 0, 0, 0]\n",
    "    elif country_live in continents_with_countries['europe']:\n",
    "        return [0, 0, 1, 0, 0, 0]\n",
    "    elif country_live in continents_with_countries['northamerica']:\n",
    "        return [0, 0, 0, 1, 0, 0]\n",
    "    elif country_live in continents_with_countries['oceania']:\n",
    "        return [0, 0, 0, 0, 1, 0]\n",
    "    elif country_live in continents_with_countries['southamerica']:\n",
    "        return [0, 0, 0, 0, 0, 1]\n",
    "    else:\n",
    "        return None\n",
    "\n",
    "built_continents = filtered_set.map(build_data_continent).filter(lambda x: x) # Last filter removes all NA and Other elements\n",
    "people_per_continent = np.sum(built_continents.collect(), axis=0)\n",
    "\n",
    "continents = {\n",
    "    'asia': people_per_continent[INDEX_ASIA],\n",
    "    'africa': people_per_continent[INDEX_AFRICA],\n",
    "    'europe': people_per_continent[INDEX_EUROPE],\n",
    "    'northamerica': people_per_continent[INDEX_NORTH_AMERICA],\n",
    "    'oceania': people_per_continent[INDEX_OCEANIA],\n",
    "    'southamerica': people_per_continent[INDEX_SOUTH_AMERICA],\n",
    "}\n",
    "\n",
    "print people_per_continent"
   ]
  },
  {
   "cell_type": "code",
   "execution_count": null,
   "metadata": {
    "collapsed": false
   },
   "outputs": [],
   "source": [
    "minimum = min(people_per_continent)\n",
    "maximum = max(people_per_continent)\n",
    "\n",
    "colormap = linear.YlGn.scale(\n",
    "    minimum,\n",
    "    maximum\n",
    ")\n",
    "\n",
    "colormap"
   ]
  },
  {
   "cell_type": "code",
   "execution_count": null,
   "metadata": {
    "collapsed": true
   },
   "outputs": [],
   "source": [
    "continents_path = os.path.join('data', 'continents.json')\n",
    "continents_geojson = json.load(open(continents_path))"
   ]
  },
  {
   "cell_type": "code",
   "execution_count": null,
   "metadata": {
    "collapsed": false
   },
   "outputs": [],
   "source": [
    "m = folium.Map([0, 0], zoom_start=2)\n",
    "\n",
    "folium.GeoJson(\n",
    "    continents_geojson,\n",
    "    style_function=lambda feature: {\n",
    "        'fillColor': colormap(continents[feature['properties']['continent'].lower()]),\n",
    "        'fillOpacity' : 0.9,\n",
    "        'color': 'black',\n",
    "        'weight': 2,\n",
    "        'dashArray': '1, 1'\n",
    "    }\n",
    ").add_to(m)\n",
    "\n",
    "marker_cluster = folium.MarkerCluster().add_to(m)\n",
    "def add_marker(latitude, longitude, text):\n",
    "    folium.Marker(\n",
    "        location=[latitude, longitude],\n",
    "        popup=text,\n",
    "        icon=None,\n",
    "    ).add_to(marker_cluster)\n",
    "\n",
    "add_marker(40.950403, -101.777344, 'North America: {}'.format(people_per_continent[INDEX_NORTH_AMERICA]))\n",
    "add_marker(-14.30224, -57.832031, 'South America: {}'.format(people_per_continent[INDEX_SOUTH_AMERICA]))\n",
    "add_marker(10.276486, 22.851563, 'Africa: {}'.format(people_per_continent[INDEX_AFRICA]))\n",
    "add_marker(50.151876, 14.414063, 'Europe: {}'.format(people_per_continent[INDEX_EUROPE]))\n",
    "add_marker(53.621476, 92.460938, 'Asia: {}'.format(people_per_continent[INDEX_ASIA]))\n",
    "add_marker(-23.921549, 130.429688, 'Oceania: {}'.format(people_per_continent[INDEX_OCEANIA]))\n",
    "\n",
    "# Show the map\n",
    "m"
   ]
  },
  {
   "cell_type": "code",
   "execution_count": null,
   "metadata": {
    "collapsed": false
   },
   "outputs": [],
   "source": [
    "INDEX_RESOURCES_START = 84\n",
    "INDEX_RESOURCES_END = 109\n",
    "def build_data_resources(line):\n",
    "    def change_na_to_0(resource):\n",
    "        \"\"\"\n",
    "        # re.match(r'^\\d+$', resource) can also be used, but is unnecessary because the only numbers in the resources is '1'\n",
    "        if resource == '1':\n",
    "            return int(resource)\n",
    "        else:\n",
    "            return 0\n",
    "        \"\"\"\n",
    "        \n",
    "        if resource == 'NA':\n",
    "            return 0\n",
    "        else:\n",
    "            return 1\n",
    "    return map(change_na_to_0, line[INDEX_RESOURCES_START : INDEX_RESOURCES_END + 1]) # Take subset of each array, which contain the resources\n",
    "\n",
    "built_resources = filtered_set.map(build_data_resources)\n",
    "resources = np.sum(built_resources.collect(), axis=0)\n",
    "\n",
    "print resources"
   ]
  },
  {
   "cell_type": "code",
   "execution_count": null,
   "metadata": {
    "collapsed": false
   },
   "outputs": [],
   "source": [
    "\"\"\"\n",
    "Resource list\n",
    "\n",
    "84 ResourceBlogs - 0\n",
    "85 ResourceBooks - 1\n",
    "86 ResourceCodeWars - 2\n",
    "87 ResourceCodecademy - 3\n",
    "88 ResourceCoursera - 4\n",
    "89 ResourceDevTips - 5\n",
    "90 ResourceEdX - 6\n",
    "91 ResourceEggHead - 7\n",
    "92 ResourceFCC - 8 (https://www.freecodecamp.com/)\n",
    "93 ResourceGoogle - 9\n",
    "94 ResourceHackerRank - 10\n",
    "95 ResourceKhanAcademy - 11\n",
    "96 ResourceLynda - 12\n",
    "97 ResourceMDN - 13\n",
    "98 ResourceOdinProj - 14\n",
    "99 ResourceOther - 15\n",
    "100 ResourcePluralSight - 16\n",
    "101 ResourceReddit - 17\n",
    "102 ResourceSkillCrush - 18\n",
    "103 ResourceSoloLearn - 19\n",
    "104 ResourceStackOverflow - 20\n",
    "105 ResourceTreehouse - 21\n",
    "106 ResourceUdacity - 22\n",
    "107 ResourceUdemy - 23\n",
    "108 ResourceW3Schools - 24\n",
    "109 ResourceYouTube - 25\n",
    "\"\"\"\n",
    "\n",
    "set_plot_font_size(10.0)\n",
    "\n",
    "#Age\n",
    "N = 5\n",
    "width = 0.5\n",
    "LABELS = ['Blogs', 'Books', 'CodeWars', 'Codecademy', 'Coursera', 'DevTips', 'Edx', 'EggHead', 'FCC', 'Google', 'HackerRank',\n",
    "          'KhanAcademy', 'Lynda', 'MDN', 'OdingProj', 'Other', 'PluralSight', 'Reddit', 'SkillCrush', 'SoloLearn',\n",
    "          'StackOverflow', 'Treehouse', 'Udacity', 'Udemy', 'W3Schools', 'YouTube']\n",
    "\n",
    "x_axis = np.arange(len(LABELS))\n",
    "\n",
    "fig = plt.figure(figsize=(15, 7))\n",
    "ax = fig.add_subplot(1,1,1)\n",
    "\n",
    "p1 = ax.bar(x_axis, resources, width, color='gold', align='center')\n",
    "\n",
    "ax.set_xlabel('Resource')\n",
    "ax.set_ylabel('Amount')\n",
    "plt.xticks(x_axis, LABELS, rotation=90)\n",
    "\n",
    "pass"
   ]
  },
  {
   "cell_type": "code",
   "execution_count": null,
   "metadata": {
    "collapsed": false
   },
   "outputs": [],
   "source": [
    "INDEX_RESOURCES_START = 11\n",
    "INDEX_RESOURCES_END = 26\n",
    "def build_data_resources(line):\n",
    "    def change_na_to_0(resource):\n",
    "        \"\"\"\n",
    "        # re.match(r'^\\d+$', resource) can also be used, but is unnecessary because the only numbers in the resources is '1'\n",
    "        if resource == '1':\n",
    "            return int(resource)\n",
    "        else:\n",
    "            return 0\n",
    "        \"\"\"\n",
    "        if resource == 'NA':\n",
    "            return 0\n",
    "        else:\n",
    "            return 1\n",
    "    return map(change_na_to_0, line[INDEX_RESOURCES_START : INDEX_RESOURCES_END + 1]) # Take subset of each array, which contain the resources\n",
    "\n",
    "built_resources = filtered_set.map(build_data_resources)\n",
    "resources = np.sum(built_resources.collect(), axis=0)\n",
    "\n",
    "print resources"
   ]
  },
  {
   "cell_type": "code",
   "execution_count": null,
   "metadata": {
    "collapsed": false
   },
   "outputs": [],
   "source": [
    "\"\"\"\n",
    "Resource list\n",
    "\n",
    "11 CodeEventBootcamp\n",
    "12 CodeEventCoffee\n",
    "13 CodeEventConferences\n",
    "14 CodeEventDjangoGirls\n",
    "15 CodeEventGameJam\n",
    "16 CodeEventGirlDev\n",
    "17 CodeEventHackathons\n",
    "18 CodeEventMeetup\n",
    "19 CodeEventNodeSchool\n",
    "20 CodeEventNone\n",
    "21 CodeEventOther\n",
    "22 CodeEventRailsBridge\n",
    "23 CodeEventRailsGirls\n",
    "24 CodeEventStartUpWknd\n",
    "25 CodeEventWomenCode\n",
    "26 CodeEventWorkshop\n",
    "\"\"\"\n",
    "\n",
    "set_plot_font_size(10.0)\n",
    "\n",
    "width = 0.5\n",
    "LABELS = ['CodeEventBootcamp', 'CodeEventCoffee', 'CodeEventConferences', 'CodeEventDjangoGirls', 'CodeEventGameJam', \n",
    "          'CodeEventGirlDev', 'CodeEventHackatons', 'CodeEventMeetup', 'CodeEventNodeSchool', 'CodeEventNone', 'CodeEventOther',\n",
    "          'CodeEventRailsBridge', 'CodeEventRailsGirls', 'CodeEventStartUpWknd', 'CodeEventWomenCode', 'CodeEventWorkshop']\n",
    "\n",
    "x_axis = np.arange(len(LABELS))\n",
    "\n",
    "fig = plt.figure(figsize=(15, 7))\n",
    "ax = fig.add_subplot(1,1,1)\n",
    "\n",
    "p1 = ax.bar(x_axis, resources, width, color='orange', align='center')\n",
    "\n",
    "ax.set_xlabel('Resource')\n",
    "ax.set_ylabel('Amount')\n",
    "plt.xticks(x_axis, LABELS, rotation=90)\n",
    "\n",
    "pass"
   ]
  },
  {
   "cell_type": "code",
   "execution_count": null,
   "metadata": {
    "collapsed": true
   },
   "outputs": [],
   "source": []
  }
 ],
 "metadata": {
  "anaconda-cloud": {},
  "kernelspec": {
   "display_name": "Python [Root]",
   "language": "python",
   "name": "Python [Root]"
  },
  "language_info": {
   "codemirror_mode": {
    "name": "ipython",
    "version": 2
   },
   "file_extension": ".py",
   "mimetype": "text/x-python",
   "name": "python",
   "nbconvert_exporter": "python",
   "pygments_lexer": "ipython2",
   "version": "2.7.12"
  }
 },
 "nbformat": 4,
 "nbformat_minor": 0
}
